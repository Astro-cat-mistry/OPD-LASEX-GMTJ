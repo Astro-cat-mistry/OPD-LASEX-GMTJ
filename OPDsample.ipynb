{
 "cells": [
  {
   "cell_type": "markdown",
   "id": "d10022d7-bab2-40de-9d37-7b96462bced2",
   "metadata": {},
   "source": [
    "# Filtering galaxies"
   ]
  },
  {
   "cell_type": "markdown",
   "id": "e952b7b2-9dca-4abe-9feb-7694ff4fe3b7",
   "metadata": {},
   "source": [
    "### We exclude galaxies which have already been observed in former missions. For future use of this code, it needs to be updated with new sources that were observed."
   ]
  },
  {
   "cell_type": "code",
   "execution_count": 1,
   "id": "89cc51e7-40ef-4bc3-8404-bb9b4d483fd1",
   "metadata": {
    "tags": []
   },
   "outputs": [],
   "source": [
    "import astropy.units as u\n",
    "import pandas as pd\n",
    "import numpy as np\n",
    "from astropy.coordinates import Angle"
   ]
  },
  {
   "cell_type": "code",
   "execution_count": 27,
   "id": "f662ef92-fb77-4424-b77c-ff781a06be68",
   "metadata": {
    "tags": []
   },
   "outputs": [
    {
     "name": "stdout",
     "output_type": "stream",
     "text": [
      "Original 22\n",
      "Total after filter: 14\n",
      "# of removed galaxies: 8\n"
     ]
    }
   ],
   "source": [
    "# You need to give a list of astronomical objects with spherical coordinates RA & DEC\n",
    "df = pd.read_csv('/home/pampolha/Observações/S4G_1.csv')\n",
    "mask_ra = (df['ra'] > 100) & (df['ra'] < 330)\n",
    "mask_dec = (df['dec'] > (-60)) & (df['dec'] < 22)\n",
    "mask_mstar = (df['mstar'] > 10) #MW analogs criteria\n",
    "mask_vmaxg = (df['vmaxg'] > 100) #MW analogs criteria\n",
    "mask_t = (df['t'] > 1.5) & (df['t'] < 4.5) #MW analogs criteria\n",
    "mask_incl = (df['incl'] > 40) & (df['incl'] < 70) #MW analogs criteria\n",
    "\n",
    "# Combine masks using the logic operator \"&\" (AND)\n",
    "mask_combined = mask_ra & mask_dec & mask_mstar & mask_vmaxg & mask_t & mask_incl\n",
    "\n",
    "# Remove lines that doesn't satisfy all criteria at the same time\n",
    "df = df[mask_combined]\n",
    "\n",
    "# List of galaxies to be removed (previous missions objects + actual)\n",
    "\n",
    "# Loads the main table and add new columns\n",
    "df['equinox']='J2000'\n",
    "\n",
    "# To upload the coordinates to Staralt, RA must be at degree units \n",
    "df['ra_hours'] = df['ra'].apply(lambda x: (x * u.deg).to(u.hourangle).value)\n",
    "\n",
    "# Lists the galaxies to be removed (past missions + current)\n",
    "galaxias_remover = ['ESO404-012','NGC5750','NGC5757','NGC4045','IC4237', 'NGC5957','NGC5962','NGC3321', \n",
    "                    'IC1055','IC1067','IC1158','IC1438','NGC4897','NGC4902','NGC5913','NGC7219','NGC7690',\n",
    "                    'NGC4480','NGC4378','NGC4409','NGC4580','PGC036217','NGC7421','NGC6870','NGC6902',\n",
    "                    'NGC6923','NGC4941','NGC4050','NGC7418','NGC6118','IC4901','NGC6887','NGC6063',\n",
    "                    'NGC6925','NGC6070','NGC2731','NGC3507','NGC7205','NGC4158','NGC2966','NGC4527','NGC4351',\n",
    "                    'NGC5247','NGC5756','NGC7552','NGC7179','NGC3976','NGC4628','NGC4067','NGC5364','NGC4313',\n",
    "                    'UGC08067','NGC3715','NGC3177','ESO443-042','NGC7368','NGC4639','IC5334','NGC4343','PGC047721',\n",
    "                    'NGC4394','NGC3681','NGC4462','NGC4746','NGC7171','NGC5534','NGC3705','NGC3684', 'NGC5806',\n",
    "                    'NGC5850', 'NGC5878','NGC5915','NGC5921','NGC5937','NGC7163','NGC6012','NGC7140','ESO342-013']\n",
    "\n",
    "# Filters DataFrame, keeping only galaxies whiche are NOT on remotion list\n",
    "df_filtered = df[~df['object'].isin(galaxias_remover)]\n",
    "\n",
    "# Shows how many galaxies were removed\n",
    "print(f\"Original: {len(df)}\")\n",
    "print(f\"Total after filter: {len(df_filtered)}\")\n",
    "print(f\"# of removed galaxies: {len(df) - len(df_filtered)}\")\n",
    "\n",
    "# Saves the result into a .csv file\n",
    "df_filtered.to_csv('tabela_filtrada.csv', index=False)"
   ]
  },
  {
   "cell_type": "markdown",
   "id": "6ce802f9-b3b2-445c-b02c-e000135576c1",
   "metadata": {},
   "source": [
    "Selecting only the galaxy position columns"
   ]
  },
  {
   "cell_type": "code",
   "execution_count": 3,
   "id": "2bb637ff-11bb-4624-bbff-8128e0c62732",
   "metadata": {
    "tags": []
   },
   "outputs": [
    {
     "data": {
      "text/html": [
       "<div>\n",
       "<style scoped>\n",
       "    .dataframe tbody tr th:only-of-type {\n",
       "        vertical-align: middle;\n",
       "    }\n",
       "\n",
       "    .dataframe tbody tr th {\n",
       "        vertical-align: top;\n",
       "    }\n",
       "\n",
       "    .dataframe thead th {\n",
       "        text-align: right;\n",
       "    }\n",
       "</style>\n",
       "<table border=\"1\" class=\"dataframe\">\n",
       "  <thead>\n",
       "    <tr style=\"text-align: right;\">\n",
       "      <th></th>\n",
       "      <th>object</th>\n",
       "      <th>ra</th>\n",
       "      <th>dec</th>\n",
       "    </tr>\n",
       "  </thead>\n",
       "  <tbody>\n",
       "    <tr>\n",
       "      <th>1</th>\n",
       "      <td>IC5039</td>\n",
       "      <td>310.809676</td>\n",
       "      <td>-29.853357</td>\n",
       "    </tr>\n",
       "    <tr>\n",
       "      <th>2</th>\n",
       "      <td>IC5105B</td>\n",
       "      <td>321.500887</td>\n",
       "      <td>-40.834792</td>\n",
       "    </tr>\n",
       "    <tr>\n",
       "      <th>3</th>\n",
       "      <td>ESO234-049</td>\n",
       "      <td>308.825250</td>\n",
       "      <td>-49.865630</td>\n",
       "    </tr>\n",
       "    <tr>\n",
       "      <th>4</th>\n",
       "      <td>ESO285-048</td>\n",
       "      <td>311.167157</td>\n",
       "      <td>-45.978448</td>\n",
       "    </tr>\n",
       "    <tr>\n",
       "      <th>7</th>\n",
       "      <td>NGC6889</td>\n",
       "      <td>304.721395</td>\n",
       "      <td>-53.956999</td>\n",
       "    </tr>\n",
       "    <tr>\n",
       "      <th>10</th>\n",
       "      <td>NGC7059</td>\n",
       "      <td>321.839586</td>\n",
       "      <td>-60.014545</td>\n",
       "    </tr>\n",
       "    <tr>\n",
       "      <th>12</th>\n",
       "      <td>NGC7151</td>\n",
       "      <td>328.766150</td>\n",
       "      <td>-50.657610</td>\n",
       "    </tr>\n",
       "    <tr>\n",
       "      <th>13</th>\n",
       "      <td>NGC7162</td>\n",
       "      <td>329.912629</td>\n",
       "      <td>-43.306085</td>\n",
       "    </tr>\n",
       "    <tr>\n",
       "      <th>15</th>\n",
       "      <td>PGC066242</td>\n",
       "      <td>317.521256</td>\n",
       "      <td>-3.701667</td>\n",
       "    </tr>\n",
       "    <tr>\n",
       "      <th>16</th>\n",
       "      <td>ESO402-025</td>\n",
       "      <td>320.566343</td>\n",
       "      <td>-36.627557</td>\n",
       "    </tr>\n",
       "    <tr>\n",
       "      <th>17</th>\n",
       "      <td>ESO403-024</td>\n",
       "      <td>326.665209</td>\n",
       "      <td>-36.205534</td>\n",
       "    </tr>\n",
       "    <tr>\n",
       "      <th>18</th>\n",
       "      <td>ESO403-031</td>\n",
       "      <td>327.016853</td>\n",
       "      <td>-36.772655</td>\n",
       "    </tr>\n",
       "    <tr>\n",
       "      <th>19</th>\n",
       "      <td>ESO404-003</td>\n",
       "      <td>328.165578</td>\n",
       "      <td>-36.502734</td>\n",
       "    </tr>\n",
       "    <tr>\n",
       "      <th>21</th>\n",
       "      <td>ESO342-050</td>\n",
       "      <td>322.062601</td>\n",
       "      <td>-37.861329</td>\n",
       "    </tr>\n",
       "  </tbody>\n",
       "</table>\n",
       "</div>"
      ],
      "text/plain": [
       "        object          ra        dec\n",
       "1       IC5039  310.809676 -29.853357\n",
       "2      IC5105B  321.500887 -40.834792\n",
       "3   ESO234-049  308.825250 -49.865630\n",
       "4   ESO285-048  311.167157 -45.978448\n",
       "7      NGC6889  304.721395 -53.956999\n",
       "10     NGC7059  321.839586 -60.014545\n",
       "12     NGC7151  328.766150 -50.657610\n",
       "13     NGC7162  329.912629 -43.306085\n",
       "15   PGC066242  317.521256  -3.701667\n",
       "16  ESO402-025  320.566343 -36.627557\n",
       "17  ESO403-024  326.665209 -36.205534\n",
       "18  ESO403-031  327.016853 -36.772655\n",
       "19  ESO404-003  328.165578 -36.502734\n",
       "21  ESO342-050  322.062601 -37.861329"
      ]
     },
     "execution_count": 3,
     "metadata": {},
     "output_type": "execute_result"
    }
   ],
   "source": [
    "df_positions = df_filtered[['object', 'ra','dec']]\n",
    "df_positions"
   ]
  },
  {
   "cell_type": "code",
   "execution_count": 29,
   "id": "01028c0e-a785-46bd-8673-f96afefef7e9",
   "metadata": {
    "tags": []
   },
   "outputs": [
    {
     "name": "stdout",
     "output_type": "stream",
     "text": [
      "    object         ra        dec\n",
      "    IC5039 310.809676 -29.853357\n",
      "   IC5105B 321.500887 -40.834792\n",
      "ESO234-049 308.825250 -49.865630\n",
      "ESO285-048 311.167157 -45.978448\n",
      "   NGC6889 304.721395 -53.956999\n",
      "   NGC7059 321.839586 -60.014545\n",
      "   NGC7151 328.766150 -50.657610\n",
      "   NGC7162 329.912629 -43.306085\n",
      " PGC066242 317.521256  -3.701667\n",
      "ESO402-025 320.566343 -36.627557\n",
      "ESO403-024 326.665209 -36.205534\n",
      "ESO403-031 327.016853 -36.772655\n",
      "ESO404-003 328.165578 -36.502734\n",
      "ESO342-050 322.062601 -37.861329\n"
     ]
    },
    {
     "ename": "AttributeError",
     "evalue": "'NoneType' object has no attribute 'drop'",
     "output_type": "error",
     "traceback": [
      "\u001b[0;31m---------------------------------------------------------------------------\u001b[0m",
      "\u001b[0;31mAttributeError\u001b[0m                            Traceback (most recent call last)",
      "Cell \u001b[0;32mIn[29], line 2\u001b[0m\n\u001b[1;32m      1\u001b[0m \u001b[38;5;66;03m# Display the first three columns of the filtered DataFrame (to use on Finders.ipynb notebook)\u001b[39;00m\n\u001b[0;32m----> 2\u001b[0m \u001b[38;5;28;43mprint\u001b[39;49m\u001b[43m(\u001b[49m\u001b[43mdf_filtrado\u001b[49m\u001b[38;5;241;43m.\u001b[39;49m\u001b[43miloc\u001b[49m\u001b[43m[\u001b[49m\u001b[43m:\u001b[49m\u001b[43m,\u001b[49m\u001b[43m \u001b[49m\u001b[43m:\u001b[49m\u001b[38;5;241;43m3\u001b[39;49m\u001b[43m]\u001b[49m\u001b[38;5;241;43m.\u001b[39;49m\u001b[43mto_string\u001b[49m\u001b[43m(\u001b[49m\u001b[43mindex\u001b[49m\u001b[38;5;241;43m=\u001b[39;49m\u001b[38;5;28;43;01mFalse\u001b[39;49;00m\u001b[43m)\u001b[49m\u001b[43m)\u001b[49m\u001b[38;5;241;43m.\u001b[39;49m\u001b[43mdrop\u001b[49m\n",
      "\u001b[0;31mAttributeError\u001b[0m: 'NoneType' object has no attribute 'drop'"
     ]
    }
   ],
   "source": [
    "# Display the first three columns of the filtered DataFrame (to use on Finders.ipynb notebook)\n",
    "print(df_filtrado.iloc[:, :3].to_string(index=False)).drop"
   ]
  },
  {
   "cell_type": "markdown",
   "id": "99ffa68c-958c-405a-bf17-76e8a0e792bf",
   "metadata": {},
   "source": [
    "### Creates a table with these positions"
   ]
  },
  {
   "cell_type": "code",
   "execution_count": 5,
   "id": "0dc05b9c-641a-4d2c-a11e-06486f8ad74a",
   "metadata": {
    "tags": []
   },
   "outputs": [],
   "source": [
    "df_final.to_csv('staralt.csv')"
   ]
  },
  {
   "cell_type": "markdown",
   "id": "7af37c66-bb33-4c74-be4c-32af9dfb51d9",
   "metadata": {},
   "source": [
    "# Converting coordinates from deg deg to h m s and deg m s"
   ]
  },
  {
   "cell_type": "markdown",
   "id": "f0a48abf-89ef-4999-9f36-aff38c3ddcbb",
   "metadata": {},
   "source": [
    "### To set coordinates of targets at the Pointing, in TCSPD monitor, those should be on the units\n",
    "##### ra: hour minutes seconds\n",
    "##### dec: degree minutes seconds\n",
    "### Let´s make the units conversion to all of them"
   ]
  },
  {
   "cell_type": "code",
   "execution_count": 25,
   "id": "8815d81a-c020-467f-b143-d4fa47f2e14d",
   "metadata": {
    "collapsed": true,
    "jupyter": {
     "outputs_hidden": true
    },
    "tags": []
   },
   "outputs": [
    {
     "name": "stderr",
     "output_type": "stream",
     "text": [
      "/tmp/ipykernel_310/2140192615.py:4: SettingWithCopyWarning: \n",
      "A value is trying to be set on a copy of a slice from a DataFrame.\n",
      "Try using .loc[row_indexer,col_indexer] = value instead\n",
      "\n",
      "See the caveats in the documentation: https://pandas.pydata.org/pandas-docs/stable/user_guide/indexing.html#returning-a-view-versus-a-copy\n",
      "  df_final['ra_hms'] = df_final['ra'].apply(\n",
      "/tmp/ipykernel_310/2140192615.py:20: SettingWithCopyWarning: \n",
      "A value is trying to be set on a copy of a slice from a DataFrame.\n",
      "Try using .loc[row_indexer,col_indexer] = value instead\n",
      "\n",
      "See the caveats in the documentation: https://pandas.pydata.org/pandas-docs/stable/user_guide/indexing.html#returning-a-view-versus-a-copy\n",
      "  df_final['dec_dms'] = df_final['dec'].apply(decimal_to_dms)\n"
     ]
    }
   ],
   "source": [
    "df_final['ra_hms'] = df_final['ra'].apply(\n",
    "    lambda x: Angle(x, unit='deg').to_string(unit='hour', sep=':', pad=True))\n",
    "\n",
    "# Converting only decimals to DMS\n",
    "def decimal_to_dms(decimal_deg):\n",
    "    degrees = int(decimal_deg)  # Full part of degrees\n",
    "    decimal_part = abs(decimal_deg - degrees)  # Decimal part (0.xxx)\n",
    "    \n",
    "    # Converts decimal part to minutes and seconds\n",
    "    total_seconds = decimal_part * 3600  # 1° = 3600 seconds\n",
    "    minutes = int(total_seconds // 60)\n",
    "    seconds = total_seconds % 60\n",
    "    \n",
    "    return f\"{degrees}° {minutes}' {seconds:.2f}\\\"\"\n",
    "\n",
    "# Aplica a função à coluna\n",
    "df_final['dec_dms'] = df_final['dec'].apply(decimal_to_dms)\n",
    "\n",
    "df_f = df_final[['object', 'ra_hms', 'dec_dms']]"
   ]
  },
  {
   "cell_type": "code",
   "execution_count": 26,
   "id": "eea90da7-efa1-4cfa-93ae-a9888529f5f3",
   "metadata": {
    "tags": []
   },
   "outputs": [
    {
     "data": {
      "text/html": [
       "<div>\n",
       "<style scoped>\n",
       "    .dataframe tbody tr th:only-of-type {\n",
       "        vertical-align: middle;\n",
       "    }\n",
       "\n",
       "    .dataframe tbody tr th {\n",
       "        vertical-align: top;\n",
       "    }\n",
       "\n",
       "    .dataframe thead th {\n",
       "        text-align: right;\n",
       "    }\n",
       "</style>\n",
       "<table border=\"1\" class=\"dataframe\">\n",
       "  <thead>\n",
       "    <tr style=\"text-align: right;\">\n",
       "      <th></th>\n",
       "      <th>object</th>\n",
       "      <th>ra_hms</th>\n",
       "      <th>dec_dms</th>\n",
       "    </tr>\n",
       "  </thead>\n",
       "  <tbody>\n",
       "    <tr>\n",
       "      <th>1</th>\n",
       "      <td>IC5039</td>\n",
       "      <td>20:43:14.32224</td>\n",
       "      <td>-29° 51' 12.09\"</td>\n",
       "    </tr>\n",
       "    <tr>\n",
       "      <th>2</th>\n",
       "      <td>IC5105B</td>\n",
       "      <td>21:26:00.21288</td>\n",
       "      <td>-40° 50' 5.25\"</td>\n",
       "    </tr>\n",
       "    <tr>\n",
       "      <th>3</th>\n",
       "      <td>ESO234-049</td>\n",
       "      <td>20:35:18.06</td>\n",
       "      <td>-49° 51' 56.27\"</td>\n",
       "    </tr>\n",
       "    <tr>\n",
       "      <th>4</th>\n",
       "      <td>ESO285-048</td>\n",
       "      <td>20:44:40.11768</td>\n",
       "      <td>-45° 58' 42.41\"</td>\n",
       "    </tr>\n",
       "    <tr>\n",
       "      <th>7</th>\n",
       "      <td>NGC6889</td>\n",
       "      <td>20:18:53.1348</td>\n",
       "      <td>-53° 57' 25.20\"</td>\n",
       "    </tr>\n",
       "    <tr>\n",
       "      <th>10</th>\n",
       "      <td>NGC7059</td>\n",
       "      <td>21:27:21.50064</td>\n",
       "      <td>-60° 0' 52.36\"</td>\n",
       "    </tr>\n",
       "    <tr>\n",
       "      <th>12</th>\n",
       "      <td>NGC7151</td>\n",
       "      <td>21:55:03.876</td>\n",
       "      <td>-50° 39' 27.40\"</td>\n",
       "    </tr>\n",
       "    <tr>\n",
       "      <th>13</th>\n",
       "      <td>NGC7162</td>\n",
       "      <td>21:59:39.03096</td>\n",
       "      <td>-43° 18' 21.91\"</td>\n",
       "    </tr>\n",
       "    <tr>\n",
       "      <th>15</th>\n",
       "      <td>PGC066242</td>\n",
       "      <td>21:10:05.10144</td>\n",
       "      <td>-3° 42' 6.00\"</td>\n",
       "    </tr>\n",
       "    <tr>\n",
       "      <th>16</th>\n",
       "      <td>ESO402-025</td>\n",
       "      <td>21:22:15.92232</td>\n",
       "      <td>-36° 37' 39.21\"</td>\n",
       "    </tr>\n",
       "    <tr>\n",
       "      <th>17</th>\n",
       "      <td>ESO403-024</td>\n",
       "      <td>21:46:39.65016</td>\n",
       "      <td>-36° 12' 19.92\"</td>\n",
       "    </tr>\n",
       "    <tr>\n",
       "      <th>18</th>\n",
       "      <td>ESO403-031</td>\n",
       "      <td>21:48:04.04472</td>\n",
       "      <td>-36° 46' 21.56\"</td>\n",
       "    </tr>\n",
       "    <tr>\n",
       "      <th>19</th>\n",
       "      <td>ESO404-003</td>\n",
       "      <td>21:52:39.73872</td>\n",
       "      <td>-36° 30' 9.84\"</td>\n",
       "    </tr>\n",
       "    <tr>\n",
       "      <th>21</th>\n",
       "      <td>ESO342-050</td>\n",
       "      <td>21:28:15.02424</td>\n",
       "      <td>-37° 51' 40.78\"</td>\n",
       "    </tr>\n",
       "  </tbody>\n",
       "</table>\n",
       "</div>"
      ],
      "text/plain": [
       "        object          ra_hms          dec_dms\n",
       "1       IC5039  20:43:14.32224  -29° 51' 12.09\"\n",
       "2      IC5105B  21:26:00.21288   -40° 50' 5.25\"\n",
       "3   ESO234-049     20:35:18.06  -49° 51' 56.27\"\n",
       "4   ESO285-048  20:44:40.11768  -45° 58' 42.41\"\n",
       "7      NGC6889   20:18:53.1348  -53° 57' 25.20\"\n",
       "10     NGC7059  21:27:21.50064   -60° 0' 52.36\"\n",
       "12     NGC7151    21:55:03.876  -50° 39' 27.40\"\n",
       "13     NGC7162  21:59:39.03096  -43° 18' 21.91\"\n",
       "15   PGC066242  21:10:05.10144    -3° 42' 6.00\"\n",
       "16  ESO402-025  21:22:15.92232  -36° 37' 39.21\"\n",
       "17  ESO403-024  21:46:39.65016  -36° 12' 19.92\"\n",
       "18  ESO403-031  21:48:04.04472  -36° 46' 21.56\"\n",
       "19  ESO404-003  21:52:39.73872   -36° 30' 9.84\"\n",
       "21  ESO342-050  21:28:15.02424  -37° 51' 40.78\""
      ]
     },
     "execution_count": 26,
     "metadata": {},
     "output_type": "execute_result"
    }
   ],
   "source": [
    "df_f"
   ]
  },
  {
   "cell_type": "code",
   "execution_count": 24,
   "id": "4361b40d-e83f-4258-96e2-57275c1cba73",
   "metadata": {
    "tags": []
   },
   "outputs": [],
   "source": [
    "#Saves the updated coordinates into a csv file\n",
    "df_final.to_csv('staralt_hours.csv')"
   ]
  },
  {
   "cell_type": "code",
   "execution_count": null,
   "id": "aa612f5f-1f51-4837-bfb4-488055fc69fd",
   "metadata": {},
   "outputs": [],
   "source": []
  }
 ],
 "metadata": {
  "kernelspec": {
   "display_name": "Python 3 (ipykernel)",
   "language": "python",
   "name": "python3"
  },
  "language_info": {
   "codemirror_mode": {
    "name": "ipython",
    "version": 3
   },
   "file_extension": ".py",
   "mimetype": "text/x-python",
   "name": "python",
   "nbconvert_exporter": "python",
   "pygments_lexer": "ipython3",
   "version": "3.11.4"
  }
 },
 "nbformat": 4,
 "nbformat_minor": 5
}
