{
 "cells": [
  {
   "cell_type": "code",
   "execution_count": 20,
   "id": "48c1237e-7b33-4e07-91a7-0fdecb222d93",
   "metadata": {
    "tags": []
   },
   "outputs": [],
   "source": [
    "import pandas as pd"
   ]
  },
  {
   "cell_type": "code",
   "execution_count": 21,
   "id": "cc6b44da-3963-4fce-8d88-b34b7a71564d",
   "metadata": {
    "tags": []
   },
   "outputs": [],
   "source": [
    "def counts(g, r, i, z, segundos=5):\n",
    "    # Lower limit calculations\n",
    "    inf_g = 24000*segundos/g\n",
    "    inf_r = 24000*segundos/r\n",
    "    inf_i = 24000*segundos/i\n",
    "    inf_z = 24000*segundos/z\n",
    "    \n",
    "    # Upper limit calculations\n",
    "    sup_g = 36000*segundos/g\n",
    "    sup_r = 36000*segundos/r\n",
    "    sup_i = 36000*segundos/i\n",
    "    sup_z = 36000*segundos/z\n",
    "    \n",
    "    # Creating DataFrame\n",
    "    data = {\n",
    "        'g': [inf_g, sup_g],\n",
    "        'r': [inf_r, sup_r],\n",
    "        'i': [inf_i, sup_i],\n",
    "        'z': [inf_z, sup_z]\n",
    "    }\n",
    "    \n",
    "    df = pd.DataFrame(data, index=['inferior', 'superior'])\n",
    "    return df"
   ]
  },
  {
   "cell_type": "code",
   "execution_count": 22,
   "id": "2978bf3b-c8f5-4005-9d72-3d52f5385a0a",
   "metadata": {
    "tags": []
   },
   "outputs": [
    {
     "data": {
      "text/html": [
       "<div>\n",
       "<style scoped>\n",
       "    .dataframe tbody tr th:only-of-type {\n",
       "        vertical-align: middle;\n",
       "    }\n",
       "\n",
       "    .dataframe tbody tr th {\n",
       "        vertical-align: top;\n",
       "    }\n",
       "\n",
       "    .dataframe thead th {\n",
       "        text-align: right;\n",
       "    }\n",
       "</style>\n",
       "<table border=\"1\" class=\"dataframe\">\n",
       "  <thead>\n",
       "    <tr style=\"text-align: right;\">\n",
       "      <th></th>\n",
       "      <th>g</th>\n",
       "      <th>r</th>\n",
       "      <th>i</th>\n",
       "      <th>z</th>\n",
       "    </tr>\n",
       "  </thead>\n",
       "  <tbody>\n",
       "    <tr>\n",
       "      <th>inferior</th>\n",
       "      <td>400.0</td>\n",
       "      <td>160.0</td>\n",
       "      <td>160.0</td>\n",
       "      <td>240.0</td>\n",
       "    </tr>\n",
       "    <tr>\n",
       "      <th>superior</th>\n",
       "      <td>600.0</td>\n",
       "      <td>240.0</td>\n",
       "      <td>240.0</td>\n",
       "      <td>360.0</td>\n",
       "    </tr>\n",
       "  </tbody>\n",
       "</table>\n",
       "</div>"
      ],
      "text/plain": [
       "              g      r      i      z\n",
       "inferior  400.0  160.0  160.0  240.0\n",
       "superior  600.0  240.0  240.0  360.0"
      ]
     },
     "execution_count": 22,
     "metadata": {},
     "output_type": "execute_result"
    }
   ],
   "source": [
    "counts(600,1500,1500,1000, segundos=10)"
   ]
  },
  {
   "cell_type": "code",
   "execution_count": null,
   "id": "e5ae6ffe-b23f-4820-a72e-ede5ae01a9bd",
   "metadata": {},
   "outputs": [],
   "source": []
  }
 ],
 "metadata": {
  "kernelspec": {
   "display_name": "Python 3 (ipykernel)",
   "language": "python",
   "name": "python3"
  },
  "language_info": {
   "codemirror_mode": {
    "name": "ipython",
    "version": 3
   },
   "file_extension": ".py",
   "mimetype": "text/x-python",
   "name": "python",
   "nbconvert_exporter": "python",
   "pygments_lexer": "ipython3",
   "version": "3.11.5"
  }
 },
 "nbformat": 4,
 "nbformat_minor": 5
}
