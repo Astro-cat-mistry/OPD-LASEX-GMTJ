{
 "cells": [
  {
   "cell_type": "code",
   "execution_count": null,
   "id": "a3062164",
   "metadata": {},
   "outputs": [],
   "source": [
    "import pandas as pd\n",
    "import numpy as np\n",
    "df = pd.read_csv('/Users/YOURUSERNAME/Downloads/S4G_1.csv')\n",
    "mask_ra = (df['ra'] > 100) & (df['ra'] < 330)\n",
    "mask_dec = (df['dec'] > (-60)) & (df['dec'] < 22)\n",
    "mask_mstar = (df['mstar'] > 10) \n",
    "mask_vmaxg = (df['vmaxg'] > 100) \n",
    "mask_t = (df['t'] > 1.5) & (df['t'] < 4.5)\n",
    "mask_incl = (df['incl'] > 40) & (df['incl'] < 70)\n",
    "# Combinar as máscaras usando o operador lógico “&” (AND)\n",
    "mask_combined = mask_ra & mask_dec & mask_mstar & mask_vmaxg & mask_t & mask_incl\n",
    "# Remover as linhas que não satisfazem todos os critérios ao mesmo tempo\n",
    "df = df[mask_combined]\n",
    "\n",
    "# Lista de galáxias a serem removidas (objetos de missões passadas + atual)\n",
    "\n",
    "galaxias_remover =  ( 'ESO404-012','NGC5750','NGC5757','NGC4045','IC4237', 'NGC5957','NGC5962','NGC3321', \n",
    "                    'IC1055','IC1067','IC1158','IC1438','NGC4897','NGC4902','NGC5913','NGC7219','NGC7690',\n",
    "                    'NGC4480','NGC4378','NGC4409','NGC4580','PGC036217','NGC7421','NGC6870','NGC6902',\n",
    "                    'NGC6923','NGC4941','NGC4050','NGC7418','NGC6118','IC4901','NGC6887','NGC6063',\n",
    "                    'NGC6925','NGC6070','NGC2731','NGC3507','NGC7205','NGC4158','NGC2966','NGC4527','NGC4351',\n",
    "                    'NGC5247','NGC5756','NGC7552','NGC7179','NGC3976','NGC4628','NGC4067','NGC5364','NGC4313',\n",
    "                    'UGC08067','NGC3715','NGC3177','ESO443-042','NGC7368','NGC4639','IC5334','NGC4343','PGC047721',\n",
    "                    'NGC4394','NGC3681','NGC4462','NGC4746','NGC7171','NGC5534','NGC3705','NGC3684', 'NGC5806',\n",
    "                    'NGC5850', 'NGC5878','NGC5915','NGC5921','NGC5937','NGC7163','NGC6012','NGC7140','ESO342-013', ) \n",
    "\n",
    "# Filtra o DataFrame mantendo apenas as galáxias que NÃO estão na lista de remoção\n",
    "df_filtrado = df[~df['object'].isin(galaxias_remover)]\n",
    "\n",
    "# Mostra quantas galáxias foram removidas\n",
    "print(f\"Total original: {len(df)}\")\n",
    "print(f\"Total após filtro: {len(df_filtrado)}\")\n",
    "print(f\"Galáxias removidas: {len(df) - len(df_filtrado)}\")\n",
    "\n",
    "# Salva o resultado se necessário\n",
    "df_filtrado.to_csv('tabela_filtrada.csv', index=False)\n",
    "df_filtrado[:]"
   ]
  },
  {
   "cell_type": "code",
   "execution_count": null,
   "id": "76a749d6",
   "metadata": {},
   "outputs": [],
   "source": [
    "# Exibe as três primeiras colunas do DataFrame filtrado\n",
    "print(df_filtrado.iloc[:, :3].to_string(index=False))"
   ]
  },
  {
   "cell_type": "code",
   "execution_count": null,
   "id": "8dbb957d",
   "metadata": {},
   "outputs": [],
   "source": []
  }
 ],
 "metadata": {
  "kernelspec": {
   "display_name": "Python 3 (ipykernel)",
   "language": "python",
   "name": "python3"
  },
  "language_info": {
   "codemirror_mode": {
    "name": "ipython",
    "version": 3
   },
   "file_extension": ".py",
   "mimetype": "text/x-python",
   "name": "python",
   "nbconvert_exporter": "python",
   "pygments_lexer": "ipython3",
   "version": "3.9.7"
  }
 },
 "nbformat": 4,
 "nbformat_minor": 5
}
